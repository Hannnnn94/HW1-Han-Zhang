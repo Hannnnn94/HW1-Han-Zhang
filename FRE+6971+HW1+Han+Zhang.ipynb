{
 "cells": [
  {
   "cell_type": "markdown",
   "metadata": {},
   "source": [
    "# Treasury yield curve rate analysis\n",
    "\n",
    "In this notebook, we would do some simple analysis on US Treasury yield curve rate during the period from 1/1/1996 to 11/20/2016.\n",
    "\n",
    "Firstly we need to download the dataset into pandas dataframe. The code is shown as follows:"
   ]
  },
  {
   "cell_type": "code",
   "execution_count": 4,
   "metadata": {
    "collapsed": true
   },
   "outputs": [],
   "source": [
    "import pandas as pd\n",
    "import numpy as np\n",
    "import matplotlib.pyplot as plt\n",
    "\n",
    "#prepare the treasury yield rate data from 1/2/1996 to 11/21/2016 and drop the 1 month yeild rate \n",
    "df_origin=pd.read_csv('C:\\\\Users\\\\zhang\\\\Desktop\\\\Treasury_Yield_Curve.csv')"
   ]
  },
  {
   "cell_type": "markdown",
   "metadata": {},
   "source": [
    "Now we get the original data. The next step is to shrink the dataframe to the period 1/1/1996-11/20/2016 and cut off the '1 month' treasury yield rate."
   ]
  },
  {
   "cell_type": "code",
   "execution_count": 11,
   "metadata": {
    "collapsed": false
   },
   "outputs": [],
   "source": [
    "df_origin.index=df_origin['Date']\n",
    "df_cut=df_origin.drop(['Date','1 mo'],axis=1)\n",
    "df_cut=df_cut.loc['1/2/1996':'11/21/2016',:]\n",
    "#print(df_cut)"
   ]
  },
  {
   "cell_type": "markdown",
   "metadata": {},
   "source": [
    "After that, we want to construct a series of daily difference of treasury yield curve rate. To speed up the debugging, we use shift function to shift the dataframe with 1 row, which works much better than indexing."
   ]
  },
  {
   "cell_type": "code",
   "execution_count": 10,
   "metadata": {
    "collapsed": false
   },
   "outputs": [],
   "source": [
    "#calculate daily difference\n",
    "df_differ=df_cut-df_cut.shift(1)\n",
    "#print(df_differ)"
   ]
  },
  {
   "cell_type": "markdown",
   "metadata": {},
   "source": [
    "Now we get the dataframe of level data together with dataframe of daily difference, we can do some basic calculations on these dataframes. Let's start with correlations and volatilities. It's quite simple because we just need to call std function for volatility calculation and corr function for correlation calculation."
   ]
  },
  {
   "cell_type": "code",
   "execution_count": 7,
   "metadata": {
    "collapsed": true
   },
   "outputs": [],
   "source": [
    "#calculate correlation and vol of level data \n",
    "cut_cor=df_cut.corr()\n",
    "cut_vol=df_cut.std(axis=0)\n",
    "\n",
    "#calculate correlation and vol of daily difference data \n",
    "differ_cor=df_differ.corr()\n",
    "differ_vol=df_differ.std(axis=0)"
   ]
  },
  {
   "cell_type": "markdown",
   "metadata": {},
   "source": [
    "The last step is to plot the volatilities into two figures."
   ]
  },
  {
   "cell_type": "code",
   "execution_count": 9,
   "metadata": {
    "collapsed": false
   },
   "outputs": [
    {
     "data": {
      "image/png": "[encoded data removed]",
      "text/plain": [
       "<matplotlib.figure.Figure at 0x12e0690>"
      ]
     },
     "metadata": {},
     "output_type": "display_data"
    },
    {
     "data": {
      "image/png": "[encoded data removed]",
      "text/plain": [
       "<matplotlib.figure.Figure at 0x1349ab0>"
      ]
     },
     "metadata": {},
     "output_type": "display_data"
    }
   ],
   "source": [
    "#plot the vol curve of level data & difference data\n",
    "cut_vol.plot(ylim=(-3.0,3),color='orange',legend=True,label='volatility of level data')\n",
    "plt.show()\n",
    "\n",
    "differ_vol.plot(ylim=(-3.0,3),color='g',legend=True,label='volatility of daily differences')\n",
    "plt.show()"
   ]
  },
  {
   "cell_type": "markdown",
   "metadata": {},
   "source": [
    "We can clearly see that the volatility of level data is monotonically decreasing, which is compliant with our prediction about the future risk. Basically we think that the near future is more volatile than the far future because far future volatility is more unpredictable. \n",
    "\n",
    "On the other side, we see the volatility of daily differences stays quite stable on every vertex, which indicates that the treasury yield rate are stable on every vertex during the period 1/1/1996 - 11/20/2016. e.g. The treasury yield rate for '3 month' is always around 5%. "
   ]
  }
 ],
 "metadata": {
  "kernelspec": {
   "display_name": "Python 3",
   "language": "python",
   "name": "python3"
  },
  "language_info": {
   "codemirror_mode": {
    "name": "ipython",
    "version": 3
   },
   "file_extension": ".py",
   "mimetype": "text/x-python",
   "name": "python",
   "nbconvert_exporter": "python",
   "pygments_lexer": "ipython3",
   "version": "3.6.0"
  }
 },
 "nbformat": 4,
 "nbformat_minor": 2
}
