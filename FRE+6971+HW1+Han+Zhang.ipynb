{
 "cells": [
  {
   "cell_type": "markdown",
   "metadata": {},
   "source": [
    "# Treasury yield curve rate analysis\n",
    "\n",
    "In this notebook, we would do some simple analysis on US Treasury yield curve rate during the period from 1/1/1996 to 11/20/2016.\n",
    "\n",
    "Firstly we need to download the dataset into pandas dataframe. The code is shown as follows:"
   ]
  },
  {
   "cell_type": "code",
   "execution_count": 15,
   "metadata": {
    "collapsed": false
   },
   "outputs": [],
   "source": [
    "import pandas as pd\n",
    "import numpy as np\n",
    "import matplotlib.pyplot as plt\n",
    "\n",
    "#prepare the treasury yield rate data from 1/2/1996 to 11/21/2016 and drop the 1 month yeild rate \n",
    "df_origin=pd.read_csv('C:\\\\Users\\\\zhang\\\\Desktop\\\\Daily_Treasury_Yield_Curve_Rates.csv')"
   ]
  },
  {
   "cell_type": "markdown",
   "metadata": {},
   "source": [
    "Now we get the original data. The next step is to shrink the dataframe to the period 1/1/1996-11/20/2016 and cut off the '1 month' treasury yield rate."
   ]
  },
  {
   "cell_type": "code",
   "execution_count": 18,
   "metadata": {
    "collapsed": false
   },
   "outputs": [
    {
     "name": "stdout",
     "output_type": "stream",
     "text": [
      "            3 mo  6 mo  1 yr  2 yr  3 yr  5 yr  7 yr  10 yr  20 yr  30 yr\n",
      "Date                                                                     \n",
      "1/2/1996    5.20  5.25  5.17  5.18  5.26  5.39  5.51   5.60   6.03   5.97\n",
      "1/3/1996    5.20  5.22  5.16  5.17  5.21  5.36  5.49   5.58   6.01   5.96\n",
      "1/4/1996    5.19  5.23  5.19  5.17  5.26  5.39  5.55   5.65   6.08   6.03\n",
      "1/5/1996    5.19  5.22  5.19  5.20  5.29  5.42  5.59   5.69   6.11   6.05\n",
      "1/8/1996    5.18  5.22  5.19  5.20  5.27  5.41  5.56   5.68   6.10   6.04\n",
      "1/9/1996    5.18  5.20  5.16  5.18  5.27  5.41  5.58   5.70   6.12   6.06\n",
      "1/10/1996   5.19  5.19  5.19  5.22  5.33  5.50  5.67   5.80   6.23   6.16\n",
      "1/11/1996   5.19  5.19  5.16  5.22  5.31  5.47  5.67   5.78   6.22   6.16\n",
      "1/12/1996   5.18  5.18  5.14  5.17  5.26  5.40  5.64   5.75   6.22   6.16\n",
      "1/16/1996   5.14  5.08  5.06  5.08  5.19  5.37  5.55   5.66   6.14   6.09\n",
      "1/17/1996   5.14  5.05  5.04  5.05  5.14  5.29  5.46   5.58   6.05   6.00\n",
      "1/18/1996   5.11  5.02  5.01  5.01  5.09  5.25  5.42   5.53   6.03   5.98\n",
      "1/19/1996   5.10  5.06  5.02  5.03  5.10  5.27  5.43   5.54   6.02   5.97\n",
      "1/22/1996   5.14  5.10  5.06  5.08  5.17  5.34  5.50   5.61   6.09   6.04\n",
      "1/23/1996   5.12  5.11  5.06  5.09  5.18  5.37  5.55   5.66   6.14   6.09\n",
      "1/24/1996   5.12  5.10  5.03  5.07  5.16  5.30  5.50   5.62   6.08   6.02\n",
      "1/25/1996   5.12  5.12  5.06  5.11  5.23  5.41  5.58   5.70   6.16   6.11\n",
      "1/26/1996   5.11  5.11  5.02  5.08  5.18  5.34  5.54   5.65   6.10   6.04\n",
      "1/29/1996   5.17  5.12  5.05  5.10  5.21  5.37  5.56   5.69   6.14   6.09\n",
      "1/30/1996   5.14  5.05  4.98  5.02  5.13  5.30  5.51   5.63   6.08   6.04\n",
      "1/31/1996   5.05  4.97  4.90  4.93  5.06  5.25  5.46   5.60   6.07   6.03\n",
      "2/1/1996    5.03  4.98  4.88  4.93  5.05  5.24  5.47   5.63   6.11   6.08\n",
      "2/2/1996    4.99  4.94  4.85  4.90  5.04  5.24  5.49   5.66   6.16   6.15\n",
      "2/5/1996    5.00  4.98  4.88  4.95  5.09  5.30  5.54   5.70   6.17   6.15\n",
      "2/6/1996    4.98  4.97  4.87  4.93  5.03  5.28  5.50   5.68   6.15   6.14\n",
      "2/7/1996    4.94  4.95  4.86  4.92  5.03  5.27  5.51   5.66   6.17   6.15\n",
      "2/8/1996    4.92  4.93  4.84  4.90  5.01  5.27  5.51   5.66   6.17   6.09\n",
      "2/9/1996    4.93  4.91  4.82  4.85  4.98  5.25  5.49   5.66   6.17   6.11\n",
      "2/12/1996   4.93  4.90  4.80  4.83  4.94  5.17  5.42   5.61   6.10   6.05\n",
      "2/13/1996   4.93  4.86  4.79  4.80  4.89  5.14  5.39   5.58   6.08   6.02\n",
      "...          ...   ...   ...   ...   ...   ...   ...    ...    ...    ...\n",
      "10/7/2016   0.33  0.46  0.66  0.83  0.99  1.26  1.55   1.73   2.14   2.46\n",
      "10/11/2016  0.35  0.48  0.69  0.87  1.03  1.30  1.58   1.77   2.17   2.50\n",
      "10/12/2016  0.37  0.49  0.68  0.87  0.99  1.31  1.60   1.79   2.19   2.51\n",
      "10/13/2016  0.30  0.45  0.66  0.85  1.00  1.27  1.56   1.75   2.15   2.48\n",
      "10/14/2016  0.32  0.46  0.66  0.84  1.00  1.28  1.58   1.80   2.22   2.55\n",
      "10/17/2016  0.34  0.47  0.65  0.81  0.98  1.26  1.56   1.77   2.19   2.52\n",
      "10/18/2016  0.34  0.47  0.66  0.82  0.96  1.24  1.54   1.75   2.18   2.51\n",
      "10/19/2016  0.35  0.48  0.65  0.81  0.96  1.24  1.54   1.76   2.18   2.51\n",
      "10/20/2016  0.35  0.48  0.66  0.84  0.98  1.26  1.55   1.76   2.17   2.50\n",
      "10/21/2016  0.34  0.47  0.66  0.84  0.98  1.25  1.53   1.74   2.15   2.48\n",
      "10/24/2016  0.33  0.46  0.66  0.84  1.00  1.27  1.56   1.77   2.18   2.52\n",
      "10/25/2016  0.34  0.49  0.66  0.86  1.00  1.29  1.56   1.77   2.17   2.50\n",
      "10/26/2016  0.33  0.49  0.67  0.86  1.01  1.30  1.59   1.79   2.20   2.53\n",
      "10/27/2016  0.30  0.49  0.68  0.87  1.04  1.33  1.64   1.85   2.26   2.60\n",
      "10/28/2016  0.30  0.49  0.66  0.86  1.02  1.33  1.63   1.86   2.27   2.62\n",
      "10/31/2016  0.34  0.51  0.66  0.86  1.00  1.31  1.62   1.84   2.25   2.58\n",
      "11/1/2016   0.35  0.50  0.65  0.83  0.99  1.30  1.61   1.83   2.24   2.58\n",
      "11/2/2016   0.37  0.51  0.64  0.81  0.98  1.26  1.57   1.81   2.22   2.56\n",
      "11/3/2016   0.38  0.52  0.64  0.81  0.98  1.26  1.58   1.82   2.25   2.60\n",
      "11/4/2016   0.38  0.52  0.62  0.80  0.95  1.24  1.55   1.79   2.22   2.56\n",
      "11/7/2016   0.41  0.54  0.63  0.82  0.99  1.29  1.60   1.83   2.26   2.60\n",
      "11/8/2016   0.43  0.56  0.71  0.87  1.04  1.34  1.65   1.88   2.29   2.63\n",
      "11/9/2016   0.45  0.56  0.72  0.90  1.12  1.49  1.84   2.07   2.52   2.88\n",
      "11/10/2016  0.48  0.59  0.72  0.92  1.17  1.56  1.92   2.15   2.58   2.94\n",
      "11/14/2016  0.55  0.65  0.77  1.00  1.27  1.66  2.01   2.23   2.65   2.99\n",
      "11/15/2016  0.51  0.61  0.78  1.02  1.28  1.68  2.03   2.23   2.64   2.97\n",
      "11/16/2016  0.47  0.62  0.76  1.00  1.28  1.68  2.03   2.22   2.61   2.92\n",
      "11/17/2016  0.44  0.61  0.77  1.04  1.31  1.73  2.08   2.29   2.69   3.01\n",
      "11/18/2016  0.44  0.60  0.77  1.07  1.36  1.80  2.14   2.34   2.70   3.01\n",
      "11/21/2016  0.46  0.60  0.78  1.08  1.36  1.79  2.13   2.33   2.69   3.00\n",
      "\n",
      "[5230 rows x 10 columns]\n"
     ]
    }
   ],
   "source": [
    "df_origin.index=df_origin['Date']\n",
    "df_cut=df_origin.drop(['Date','1 mo'],axis=1)\n",
    "df_cut=df_cut.loc['1/2/1996':'11/21/2016',:]\n",
    "print(df_cut)"
   ]
  },
  {
   "cell_type": "markdown",
   "metadata": {},
   "source": [
    "After that, we want to construct a series of daily difference of treasury yield curve rate. To speed up the debugging, we use shift function to shift the dataframe with 1 row, which works much better than indexing."
   ]
  },
  {
   "cell_type": "code",
   "execution_count": 19,
   "metadata": {
    "collapsed": false
   },
   "outputs": [
    {
     "name": "stdout",
     "output_type": "stream",
     "text": [
      "            3 mo  6 mo  1 yr  2 yr  3 yr  5 yr  7 yr  10 yr  20 yr  30 yr\n",
      "Date                                                                     \n",
      "1/2/1996     NaN   NaN   NaN   NaN   NaN   NaN   NaN    NaN    NaN    NaN\n",
      "1/3/1996    0.00 -0.03 -0.01 -0.01 -0.05 -0.03 -0.02  -0.02  -0.02  -0.01\n",
      "1/4/1996   -0.01  0.01  0.03  0.00  0.05  0.03  0.06   0.07   0.07   0.07\n",
      "1/5/1996    0.00 -0.01  0.00  0.03  0.03  0.03  0.04   0.04   0.03   0.02\n",
      "1/8/1996   -0.01  0.00  0.00  0.00 -0.02 -0.01 -0.03  -0.01  -0.01  -0.01\n",
      "1/9/1996    0.00 -0.02 -0.03 -0.02  0.00  0.00  0.02   0.02   0.02   0.02\n",
      "1/10/1996   0.01 -0.01  0.03  0.04  0.06  0.09  0.09   0.10   0.11   0.10\n",
      "1/11/1996   0.00  0.00 -0.03  0.00 -0.02 -0.03  0.00  -0.02  -0.01   0.00\n",
      "1/12/1996  -0.01 -0.01 -0.02 -0.05 -0.05 -0.07 -0.03  -0.03   0.00   0.00\n",
      "1/16/1996  -0.04 -0.10 -0.08 -0.09 -0.07 -0.03 -0.09  -0.09  -0.08  -0.07\n",
      "1/17/1996   0.00 -0.03 -0.02 -0.03 -0.05 -0.08 -0.09  -0.08  -0.09  -0.09\n",
      "1/18/1996  -0.03 -0.03 -0.03 -0.04 -0.05 -0.04 -0.04  -0.05  -0.02  -0.02\n",
      "1/19/1996  -0.01  0.04  0.01  0.02  0.01  0.02  0.01   0.01  -0.01  -0.01\n",
      "1/22/1996   0.04  0.04  0.04  0.05  0.07  0.07  0.07   0.07   0.07   0.07\n",
      "1/23/1996  -0.02  0.01  0.00  0.01  0.01  0.03  0.05   0.05   0.05   0.05\n",
      "1/24/1996   0.00 -0.01 -0.03 -0.02 -0.02 -0.07 -0.05  -0.04  -0.06  -0.07\n",
      "1/25/1996   0.00  0.02  0.03  0.04  0.07  0.11  0.08   0.08   0.08   0.09\n",
      "1/26/1996  -0.01 -0.01 -0.04 -0.03 -0.05 -0.07 -0.04  -0.05  -0.06  -0.07\n",
      "1/29/1996   0.06  0.01  0.03  0.02  0.03  0.03  0.02   0.04   0.04   0.05\n",
      "1/30/1996  -0.03 -0.07 -0.07 -0.08 -0.08 -0.07 -0.05  -0.06  -0.06  -0.05\n",
      "1/31/1996  -0.09 -0.08 -0.08 -0.09 -0.07 -0.05 -0.05  -0.03  -0.01  -0.01\n",
      "2/1/1996   -0.02  0.01 -0.02  0.00 -0.01 -0.01  0.01   0.03   0.04   0.05\n",
      "2/2/1996   -0.04 -0.04 -0.03 -0.03 -0.01  0.00  0.02   0.03   0.05   0.07\n",
      "2/5/1996    0.01  0.04  0.03  0.05  0.05  0.06  0.05   0.04   0.01   0.00\n",
      "2/6/1996   -0.02 -0.01 -0.01 -0.02 -0.06 -0.02 -0.04  -0.02  -0.02  -0.01\n",
      "2/7/1996   -0.04 -0.02 -0.01 -0.01  0.00 -0.01  0.01  -0.02   0.02   0.01\n",
      "2/8/1996   -0.02 -0.02 -0.02 -0.02 -0.02  0.00  0.00   0.00   0.00  -0.06\n",
      "2/9/1996    0.01 -0.02 -0.02 -0.05 -0.03 -0.02 -0.02   0.00   0.00   0.02\n",
      "2/12/1996   0.00 -0.01 -0.02 -0.02 -0.04 -0.08 -0.07  -0.05  -0.07  -0.06\n",
      "2/13/1996   0.00 -0.04 -0.01 -0.03 -0.05 -0.03 -0.03  -0.03  -0.02  -0.03\n",
      "...          ...   ...   ...   ...   ...   ...   ...    ...    ...    ...\n",
      "10/7/2016   0.00  0.00  0.01 -0.03 -0.01 -0.02 -0.03  -0.02   0.00   0.00\n",
      "10/11/2016  0.02  0.02  0.03  0.04  0.04  0.04  0.03   0.04   0.03   0.04\n",
      "10/12/2016  0.02  0.01 -0.01  0.00 -0.04  0.01  0.02   0.02   0.02   0.01\n",
      "10/13/2016 -0.07 -0.04 -0.02 -0.02  0.01 -0.04 -0.04  -0.04  -0.04  -0.03\n",
      "10/14/2016  0.02  0.01  0.00 -0.01  0.00  0.01  0.02   0.05   0.07   0.07\n",
      "10/17/2016  0.02  0.01 -0.01 -0.03 -0.02 -0.02 -0.02  -0.03  -0.03  -0.03\n",
      "10/18/2016  0.00  0.00  0.01  0.01 -0.02 -0.02 -0.02  -0.02  -0.01  -0.01\n",
      "10/19/2016  0.01  0.01 -0.01 -0.01  0.00  0.00  0.00   0.01   0.00   0.00\n",
      "10/20/2016  0.00  0.00  0.01  0.03  0.02  0.02  0.01   0.00  -0.01  -0.01\n",
      "10/21/2016 -0.01 -0.01  0.00  0.00  0.00 -0.01 -0.02  -0.02  -0.02  -0.02\n",
      "10/24/2016 -0.01 -0.01  0.00  0.00  0.02  0.02  0.03   0.03   0.03   0.04\n",
      "10/25/2016  0.01  0.03  0.00  0.02  0.00  0.02  0.00   0.00  -0.01  -0.02\n",
      "10/26/2016 -0.01  0.00  0.01  0.00  0.01  0.01  0.03   0.02   0.03   0.03\n",
      "10/27/2016 -0.03  0.00  0.01  0.01  0.03  0.03  0.05   0.06   0.06   0.07\n",
      "10/28/2016  0.00  0.00 -0.02 -0.01 -0.02  0.00 -0.01   0.01   0.01   0.02\n",
      "10/31/2016  0.04  0.02  0.00  0.00 -0.02 -0.02 -0.01  -0.02  -0.02  -0.04\n",
      "11/1/2016   0.01 -0.01 -0.01 -0.03 -0.01 -0.01 -0.01  -0.01  -0.01   0.00\n",
      "11/2/2016   0.02  0.01 -0.01 -0.02 -0.01 -0.04 -0.04  -0.02  -0.02  -0.02\n",
      "11/3/2016   0.01  0.01  0.00  0.00  0.00  0.00  0.01   0.01   0.03   0.04\n",
      "11/4/2016   0.00  0.00 -0.02 -0.01 -0.03 -0.02 -0.03  -0.03  -0.03  -0.04\n",
      "11/7/2016   0.03  0.02  0.01  0.02  0.04  0.05  0.05   0.04   0.04   0.04\n",
      "11/8/2016   0.02  0.02  0.08  0.05  0.05  0.05  0.05   0.05   0.03   0.03\n",
      "11/9/2016   0.02  0.00  0.01  0.03  0.08  0.15  0.19   0.19   0.23   0.25\n",
      "11/10/2016  0.03  0.03  0.00  0.02  0.05  0.07  0.08   0.08   0.06   0.06\n",
      "11/14/2016  0.07  0.06  0.05  0.08  0.10  0.10  0.09   0.08   0.07   0.05\n",
      "11/15/2016 -0.04 -0.04  0.01  0.02  0.01  0.02  0.02   0.00  -0.01  -0.02\n",
      "11/16/2016 -0.04  0.01 -0.02 -0.02  0.00  0.00  0.00  -0.01  -0.03  -0.05\n",
      "11/17/2016 -0.03 -0.01  0.01  0.04  0.03  0.05  0.05   0.07   0.08   0.09\n",
      "11/18/2016  0.00 -0.01  0.00  0.03  0.05  0.07  0.06   0.05   0.01   0.00\n",
      "11/21/2016  0.02  0.00  0.01  0.01  0.00 -0.01 -0.01  -0.01  -0.01  -0.01\n",
      "\n",
      "[5230 rows x 10 columns]\n"
     ]
    }
   ],
   "source": [
    "#calculate daily difference\n",
    "df_differ=df_cut-df_cut.shift(1)\n",
    "print(df_differ)"
   ]
  },
  {
   "cell_type": "markdown",
   "metadata": {},
   "source": [
    "Now we get the dataframe of level data together with dataframe of daily difference, we can do some basic calculations on these dataframes. Let's start with correlations and volatilities. It's quite simple because we just need to call std function for volatility calculation and corr function for correlation calculation."
   ]
  },
  {
   "cell_type": "code",
   "execution_count": 28,
   "metadata": {
    "collapsed": false
   },
   "outputs": [
    {
     "name": "stdout",
     "output_type": "stream",
     "text": [
      "correlation of level data is:\n",
      " \n",
      "            3 mo      6 mo      1 yr      2 yr      3 yr      5 yr      7 yr  \\\n",
      "3 mo   1.000000  0.998661  0.995022  0.982426  0.969467  0.939985  0.913474   \n",
      "6 mo   0.998661  1.000000  0.997935  0.986757  0.974128  0.944613  0.917562   \n",
      "1 yr   0.995022  0.997935  1.000000  0.994271  0.984723  0.959115  0.934121   \n",
      "2 yr   0.982426  0.986757  0.994271  1.000000  0.997182  0.980730  0.961414   \n",
      "3 yr   0.969467  0.974128  0.984723  0.997182  1.000000  0.991993  0.977669   \n",
      "5 yr   0.939985  0.944613  0.959115  0.980730  0.991993  1.000000  0.995774   \n",
      "7 yr   0.913474  0.917562  0.934121  0.961414  0.977669  0.995774  1.000000   \n",
      "10 yr  0.881859  0.885977  0.904470  0.934932  0.955017  0.982768  0.994174   \n",
      "20 yr  0.818560  0.821464  0.842261  0.878590  0.904393  0.945185  0.968494   \n",
      "30 yr  0.859689  0.861940  0.876894  0.902888  0.919762  0.949256  0.968012   \n",
      "\n",
      "          10 yr     20 yr     30 yr  \n",
      "3 mo   0.881859  0.818560  0.859689  \n",
      "6 mo   0.885977  0.821464  0.861940  \n",
      "1 yr   0.904470  0.842261  0.876894  \n",
      "2 yr   0.934932  0.878590  0.902888  \n",
      "3 yr   0.955017  0.904393  0.919762  \n",
      "5 yr   0.982768  0.945185  0.949256  \n",
      "7 yr   0.994174  0.968494  0.968012  \n",
      "10 yr  1.000000  0.987123  0.985607  \n",
      "20 yr  0.987123  1.000000  0.995190  \n",
      "30 yr  0.985607  0.995190  1.000000   \n",
      " \n",
      " volatility of level data is:\n",
      " \n",
      " 3 mo     2.206580\n",
      "6 mo     2.234641\n",
      "1 yr     2.207657\n",
      "2 yr     2.156850\n",
      "3 yr     2.047208\n",
      "5 yr     1.822630\n",
      "7 yr     1.670003\n",
      "10 yr    1.479738\n",
      "20 yr    1.390122\n",
      "30 yr    1.319769\n",
      "dtype: float64 \n",
      "\n",
      "correlation of differrence data is:\n",
      " \n",
      "            3 mo      6 mo      1 yr      2 yr      3 yr      5 yr      7 yr  \\\n",
      "3 mo   1.000000  0.755004  0.582613  0.368789  0.333810  0.281835  0.241195   \n",
      "6 mo   0.755004  1.000000  0.815615  0.591768  0.549108  0.481812  0.427408   \n",
      "1 yr   0.582613  0.815615  1.000000  0.823269  0.778002  0.704128  0.642877   \n",
      "2 yr   0.368789  0.591768  0.823269  1.000000  0.953318  0.893123  0.833224   \n",
      "3 yr   0.333810  0.549108  0.778002  0.953318  1.000000  0.946603  0.898590   \n",
      "5 yr   0.281835  0.481812  0.704128  0.893123  0.946603  1.000000  0.968334   \n",
      "7 yr   0.241195  0.427408  0.642877  0.833224  0.898590  0.968334  1.000000   \n",
      "10 yr  0.215975  0.394927  0.601070  0.783927  0.854728  0.938828  0.972818   \n",
      "20 yr  0.167407  0.325455  0.514491  0.682258  0.758115  0.860456  0.918815   \n",
      "30 yr  0.153710  0.290889  0.456676  0.620167  0.702061  0.814515  0.881976   \n",
      "\n",
      "          10 yr     20 yr     30 yr  \n",
      "3 mo   0.215975  0.167407  0.153710  \n",
      "6 mo   0.394927  0.325455  0.290889  \n",
      "1 yr   0.601070  0.514491  0.456676  \n",
      "2 yr   0.783927  0.682258  0.620167  \n",
      "3 yr   0.854728  0.758115  0.702061  \n",
      "5 yr   0.938828  0.860456  0.814515  \n",
      "7 yr   0.972818  0.918815  0.881976  \n",
      "10 yr  1.000000  0.952314  0.926211  \n",
      "20 yr  0.952314  1.000000  0.977507  \n",
      "30 yr  0.926211  0.977507  1.000000   \n",
      " \n",
      " volatility of difference data is:\n",
      " \n",
      " 3 mo     0.051097\n",
      "6 mo     0.041215\n",
      "1 yr     0.042230\n",
      "2 yr     0.054745\n",
      "3 yr     0.058653\n",
      "5 yr     0.062302\n",
      "7 yr     0.062732\n",
      "10 yr    0.059702\n",
      "20 yr    0.055878\n",
      "30 yr    0.054582\n",
      "dtype: float64\n"
     ]
    }
   ],
   "source": [
    "#calculate correlation and vol of level data \n",
    "cut_cor=df_cut.corr()\n",
    "cut_vol=df_cut.std(axis=0)\n",
    "print('correlation of level data is:\\n','\\n',cut_cor,'\\n','\\n','volatility of level data is:\\n','\\n',cut_vol,'\\n')\n",
    "#calculate correlation and vol of daily difference data \n",
    "differ_cor=df_differ.corr()\n",
    "differ_vol=df_differ.std(axis=0)\n",
    "print('correlation of differrence data is:\\n','\\n',differ_cor,'\\n','\\n','volatility of difference data is:\\n','\\n',differ_vol)"
   ]
  },
  {
   "cell_type": "markdown",
   "metadata": {},
   "source": [
    "The last step is to plot the volatilities into two figures."
   ]
  },
  {
   "cell_type": "code",
   "execution_count": 36,
   "metadata": {
    "collapsed": false
   },
   "outputs": [
    {
     "data": {
      "image/png": "[encoded data removed]",
      "text/plain": [
       "<matplotlib.figure.Figure at 0x81f0830>"
      ]
     },
     "metadata": {},
     "output_type": "display_data"
    },
    {
     "data": {
      "image/png": "[encoded data removed]",
      "text/plain": [
       "<matplotlib.figure.Figure at 0x38c5590>"
      ]
     },
     "metadata": {},
     "output_type": "display_data"
    }
   ],
   "source": [
    "#plot the vol curve of level data & difference data\n",
    "cut_vol.plot(ylim=(-3.0,3),color='orange',legend=True,label='volatility of level data')\n",
    "plt.show()\n",
    "\n",
    "differ_vol.plot(ylim=(0.02,0.07),color='g',legend=True,label='volatility of daily differences')\n",
    "plt.show()"
   ]
  },
  {
   "cell_type": "markdown",
   "metadata": {},
   "source": [
    "We can clearly see that the volatility of level data is monotonically decreasing, which is compliant with our prediction about the future risk. Basically we think that the near future is more volatile than the far future because far future volatility is more unpredictable. \n",
    "\n",
    "On the other side, we see the volatility of daily differences stays quite stable on every vertex, which indicates that the treasury yield rate are stable on every vertex during the period 1/1/1996 - 11/20/2016. e.g. The treasury yield rate for '3 month' is always around 5%. "
   ]
  }
 ],
 "metadata": {
  "kernelspec": {
   "display_name": "Python 3",
   "language": "python",
   "name": "python3"
  },
  "language_info": {
   "codemirror_mode": {
    "name": "ipython",
    "version": 3
   },
   "file_extension": ".py",
   "mimetype": "text/x-python",
   "name": "python",
   "nbconvert_exporter": "python",
   "pygments_lexer": "ipython3",
   "version": "3.6.0"
  }
 },
 "nbformat": 4,
 "nbformat_minor": 2
}
